{
 "cells": [
  {
   "cell_type": "code",
   "execution_count": 19,
   "metadata": {},
   "outputs": [],
   "source": [
    "import cv2\n",
    "import numpy as np\n",
    "import math\n",
    "import mediapipe as mp\n",
    "import pulsectl "
   ]
  },
  {
   "cell_type": "code",
   "execution_count": 20,
   "metadata": {},
   "outputs": [],
   "source": [
    "# Inicialização do PulseAudio\n",
    "try:\n",
    "    pulse = pulsectl.Pulse('volume-control')\n",
    "except Exception as e:\n",
    "    print(f\"Erro ao inicializar PulseAudio: {e}\")\n",
    "    exit(1)"
   ]
  },
  {
   "cell_type": "code",
   "execution_count": 21,
   "metadata": {},
   "outputs": [],
   "source": [
    "# Configurações da câmera\n",
    "wCam, hCam = 640, 480"
   ]
  },
  {
   "cell_type": "code",
   "execution_count": 22,
   "metadata": {},
   "outputs": [],
   "source": [
    "# Inicializar a captura de vídeo\n",
    "cap = cv2.VideoCapture(0)\n",
    "if not cap.isOpened():\n",
    "    print(\"Erro ao abrir a câmera.\")\n",
    "    exit(1)"
   ]
  },
  {
   "cell_type": "code",
   "execution_count": 23,
   "metadata": {},
   "outputs": [
    {
     "data": {
      "text/plain": [
       "True"
      ]
     },
     "execution_count": 23,
     "metadata": {},
     "output_type": "execute_result"
    }
   ],
   "source": [
    "cap.set(cv2.CAP_PROP_FRAME_WIDTH, wCam)\n",
    "cap.set(cv2.CAP_PROP_FRAME_HEIGHT, hCam)"
   ]
  },
  {
   "cell_type": "code",
   "execution_count": null,
   "metadata": {},
   "outputs": [],
   "source": [
    "# Mediapipe Hands detector\n",
    "mp_hands = mp.solutions.hands\n",
    "hands = mp_hands.Hands(max_num_hands=1, min_detection_confidence=0.7)\n"
   ]
  },
  {
   "cell_type": "code",
   "execution_count": 25,
   "metadata": {},
   "outputs": [],
   "source": [
    "# Mediapipe Drawing\n",
    "mp_draw = mp.solutions.drawing_utils\n"
   ]
  },
  {
   "cell_type": "code",
   "execution_count": null,
   "metadata": {},
   "outputs": [],
   "source": [
    "try:\n",
    "    # Loop principal\n",
    "    while True:\n",
    "        success, img = cap.read()\n",
    "        if not success:\n",
    "            print(\"Falha ao capturar imagem da câmera.\")\n",
    "            break\n",
    "\n",
    "        img_rgb = cv2.cvtColor(img, cv2.COLOR_BGR2RGB)\n",
    "        results = hands.process(img_rgb)\n",
    "\n",
    "        if results.multi_hand_landmarks:\n",
    "            for hand_landmarks in results.multi_hand_landmarks:\n",
    "                mp_draw.draw_landmarks(img, hand_landmarks, mp_hands.HAND_CONNECTIONS)\n",
    "\n",
    "                thumb_tip = hand_landmarks.landmark[mp_hands.HandLandmark.THUMB_TIP]\n",
    "                index_tip = hand_landmarks.landmark[mp_hands.HandLandmark.INDEX_FINGER_TIP]\n",
    "\n",
    "                thumb_tip_coords = (int(thumb_tip.x * wCam), int(thumb_tip.y * hCam))\n",
    "                index_tip_coords = (int(index_tip.x * wCam), int(index_tip.y * hCam))\n",
    "\n",
    "                cv2.circle(img, thumb_tip_coords, 15, (255, 0, 0), cv2.FILLED)\n",
    "                cv2.circle(img, index_tip_coords, 15, (0, 255, 0), cv2.FILLED)\n",
    "                cv2.line(img, thumb_tip_coords, index_tip_coords, (0, 0, 255), 3)\n",
    "\n",
    "                distance = math.hypot(index_tip.x - thumb_tip.x, index_tip.y - thumb_tip.y)\n",
    "\n",
    "                # Ajuste estes valores conforme necessário\n",
    "                volume_level = np.interp(distance, [0.01, 0.4], [0.0, 1.0])\n",
    "\n",
    "                print(f\"Distance: {distance}, Volume Level: {volume_level}\")\n",
    "\n",
    "                # Ajustar volume aqui\n",
    "                try:\n",
    "                    sink = pulse.sink_list()[0]\n",
    "                    pulse.volume_set_all_chans(sink, volume_level)\n",
    "                except Exception as e:\n",
    "                    print(f\"Erro ao ajustar volume: {e}\")\n",
    "\n",
    "        cv2.imshow(\"Hand Tracking\", img)\n",
    "\n",
    "        if cv2.waitKey(1) & 0xFF == ord('q'):\n",
    "            break\n",
    "finally:\n",
    "    cap.release()\n",
    "    cv2.destroyAllWindows()\n",
    "    pulse.close()  # Garante que a conexão com o PulseAudio seja fechada corretamente"
   ]
  }
 ],
 "metadata": {
  "kernelspec": {
   "display_name": "venv",
   "language": "python",
   "name": "python3"
  },
  "language_info": {
   "codemirror_mode": {
    "name": "ipython",
    "version": 3
   },
   "file_extension": ".py",
   "mimetype": "text/x-python",
   "name": "python",
   "nbconvert_exporter": "python",
   "pygments_lexer": "ipython3",
   "version": "3.9.12"
  }
 },
 "nbformat": 4,
 "nbformat_minor": 2
}
